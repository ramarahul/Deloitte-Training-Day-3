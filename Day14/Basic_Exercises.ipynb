{
 "cells": [
  {
   "cell_type": "code",
   "execution_count": 7,
   "metadata": {},
   "outputs": [
    {
     "name": "stdout",
     "output_type": "stream",
     "text": [
      "Sum of two numbers is 81\n",
      "Average is 40\n"
     ]
    }
   ],
   "source": [
    "num1=35\n",
    "num2=46\n",
    "sum=num1+num2\n",
    "avg=sum//2\n",
    "print(\"Sum of two numbers is\",sum)\n",
    "print(\"Average is\",avg)"
   ]
  },
  {
   "cell_type": "code",
   "execution_count": 8,
   "metadata": {},
   "outputs": [
    {
     "name": "stdout",
     "output_type": "stream",
     "text": [
      "1\n",
      "2\n",
      "3\n",
      "4\n"
     ]
    }
   ],
   "source": [
    "lista=[1,2,3,4,5,6,7,8,9,10,11]\n",
    "for i in lista:\n",
    "    if i<5:\n",
    "        print(i)"
   ]
  },
  {
   "cell_type": "code",
   "execution_count": 11,
   "metadata": {},
   "outputs": [
    {
     "name": "stdout",
     "output_type": "stream",
     "text": [
      "Divisible by 10\n"
     ]
    }
   ],
   "source": [
    "num=30\n",
    "if num%10==0:\n",
    "    print('Divisible by 10')\n",
    "elif num%2==0:\n",
    "    print('Even')\n",
    "elif num%2!=0:\n",
    "    print('Odd')"
   ]
  },
  {
   "cell_type": "code",
   "execution_count": 13,
   "metadata": {},
   "outputs": [],
   "source": [
    "num1=4\n",
    "num2=9\n",
    "prod=num1*num2\n",
    "if prod>500:\n",
    "    print(num1+num2)"
   ]
  },
  {
   "cell_type": "code",
   "execution_count": 17,
   "metadata": {},
   "outputs": [
    {
     "name": "stdout",
     "output_type": "stream",
     "text": [
      "4 + 3 = 7\n",
      "5 + 4 = 9\n",
      "6 + 5 = 11\n",
      "7 + 6 = 13\n",
      "8 + 7 = 15\n",
      "9 + 8 = 17\n",
      "10 + 9 = 19\n",
      "11 + 10 = 21\n",
      "12 + 11 = 23\n",
      "13 + 12 = 25\n",
      "14 + 13 = 27\n",
      "15 + 14 = 29\n",
      "16 + 15 = 31\n",
      "17 + 16 = 33\n",
      "18 + 17 = 35\n",
      "19 + 18 = 37\n",
      "20 + 19 = 39\n"
     ]
    }
   ],
   "source": [
    "for i in range(4,21):\n",
    "    print(i,'+',i-1,'=',i+(i-1))"
   ]
  },
  {
   "cell_type": "code",
   "execution_count": 20,
   "metadata": {},
   "outputs": [
    {
     "name": "stdout",
     "output_type": "stream",
     "text": [
      "g\n",
      "Consonant\n"
     ]
    }
   ],
   "source": [
    "letter=input()\n",
    "vowels=['a','e','i','o','u']\n",
    "if letter in vowels:\n",
    "    print('Vowel')\n",
    "else:\n",
    "    print(\"Consonant\")"
   ]
  },
  {
   "cell_type": "code",
   "execution_count": 21,
   "metadata": {},
   "outputs": [
    {
     "name": "stdout",
     "output_type": "stream",
     "text": [
      "qwerty\n",
      "q\n",
      "e\n",
      "t\n"
     ]
    }
   ],
   "source": [
    "string=input()\n",
    "for i in range(len(string)):\n",
    "    if i%2==0:\n",
    "        print(string[i])"
   ]
  },
  {
   "cell_type": "code",
   "execution_count": 22,
   "metadata": {},
   "outputs": [
    {
     "name": "stdout",
     "output_type": "stream",
     "text": [
      "Divisible by 10\n"
     ]
    }
   ],
   "source": [
    "num=30\n",
    "if num%10==0:\n",
    "    print('Divisible by 10')\n",
    "elif num%2==0:\n",
    "    print('Even')\n",
    "elif num%2!=0:\n",
    "    print('Odd')"
   ]
  },
  {
   "cell_type": "code",
   "execution_count": 24,
   "metadata": {},
   "outputs": [
    {
     "name": "stdout",
     "output_type": "stream",
     "text": [
      "10\n",
      "20\n",
      "30\n",
      "40\n"
     ]
    }
   ],
   "source": [
    "lista=[10,33,20,30,40,66,77]\n",
    "for i in lista:\n",
    "    if i%10==0:\n",
    "        print(i)"
   ]
  },
  {
   "cell_type": "code",
   "execution_count": 26,
   "metadata": {},
   "outputs": [
    {
     "name": "stdout",
     "output_type": "stream",
     "text": [
      "First and last elements are different\n"
     ]
    }
   ],
   "source": [
    "lista=[10,20,30,40,50,20]\n",
    "if lista[0]==lista[-1]:\n",
    "    print('First and last elements are same')\n",
    "else:\n",
    "    print('First and last elements are different')"
   ]
  },
  {
   "cell_type": "code",
   "execution_count": 27,
   "metadata": {},
   "outputs": [
    {
     "data": {
      "text/plain": [
       "'hi_this_is_a_test_string'"
      ]
     },
     "execution_count": 27,
     "metadata": {},
     "output_type": "execute_result"
    }
   ],
   "source": [
    "string='hi this is a test string'\n",
    "string.replace(' ','_')"
   ]
  },
  {
   "cell_type": "code",
   "execution_count": 30,
   "metadata": {},
   "outputs": [
    {
     "name": "stdout",
     "output_type": "stream",
     "text": [
      "Palindrome\n"
     ]
    }
   ],
   "source": [
    "string='malayalam'\n",
    "for i in range(len(string)//2):\n",
    "    if string[i]!=string[-(i+1)]:\n",
    "        print('Not palindrome')\n",
    "        break;\n",
    "else:\n",
    "    print('Palindrome')"
   ]
  },
  {
   "cell_type": "code",
   "execution_count": 32,
   "metadata": {},
   "outputs": [
    {
     "name": "stdout",
     "output_type": "stream",
     "text": [
      "3 th fibonacci number is 1\n",
      "4 th fibonacci number is 2\n",
      "5 th fibonacci number is 3\n",
      "6 th fibonacci number is 5\n",
      "7 th fibonacci number is 8\n",
      "8 th fibonacci number is 13\n",
      "9 th fibonacci number is 21\n",
      "10 th fibonacci number is 34\n",
      "11 th fibonacci number is 55\n",
      "12 th fibonacci number is 89\n",
      "13 th fibonacci number is 144\n",
      "14 th fibonacci number is 233\n",
      "15 th fibonacci number is 377\n",
      "16 th fibonacci number is 610\n",
      "17 th fibonacci number is 987\n",
      "18 th fibonacci number is 1597\n",
      "19 th fibonacci number is 2584\n",
      "20 th fibonacci number is 4181\n",
      "21 th fibonacci number is 6765\n",
      "22 th fibonacci number is 10946\n",
      "23 th fibonacci number is 17711\n",
      "24 th fibonacci number is 28657\n",
      "25 th fibonacci number is 46368\n",
      "26 th fibonacci number is 75025\n",
      "27 th fibonacci number is 121393\n",
      "28 th fibonacci number is 196418\n",
      "29 th fibonacci number is 317811\n",
      "30 th fibonacci number is 514229\n",
      "31 th fibonacci number is 832040\n",
      "32 th fibonacci number is 1346269\n",
      "33 th fibonacci number is 2178309\n",
      "34 th fibonacci number is 3524578\n",
      "35 th fibonacci number is 5702887\n",
      "36 th fibonacci number is 9227465\n",
      "37 th fibonacci number is 14930352\n",
      "38 th fibonacci number is 24157817\n",
      "39 th fibonacci number is 39088169\n",
      "40 th fibonacci number is 63245986\n",
      "41 th fibonacci number is 102334155\n",
      "42 th fibonacci number is 165580141\n",
      "43 th fibonacci number is 267914296\n",
      "44 th fibonacci number is 433494437\n",
      "45 th fibonacci number is 701408733\n"
     ]
    }
   ],
   "source": [
    "n=45\n",
    "a=0\n",
    "b=1\n",
    "for i in range(3,n+1):\n",
    "    temp=a+b\n",
    "    print(i,'th fibonacci number is',a+b)\n",
    "    a=b\n",
    "    b=temp"
   ]
  },
  {
   "cell_type": "code",
   "execution_count": 35,
   "metadata": {},
   "outputs": [
    {
     "name": "stdout",
     "output_type": "stream",
     "text": [
      "stristringbnga\n"
     ]
    }
   ],
   "source": [
    "stra='stringa'\n",
    "strb='stringb'\n",
    "strc=stra[:(len(stra)//2)+1]+strb+stra[(len(stra)//2)+1:]\n",
    "print(strc)"
   ]
  },
  {
   "cell_type": "code",
   "execution_count": 40,
   "metadata": {},
   "outputs": [
    {
     "name": "stdout",
     "output_type": "stream",
     "text": [
      "\n",
      "\n",
      "1 \n",
      "1 2 \n",
      "1 2 3 \n",
      "1 2 3 4 \n",
      "1 2 3 4 5 \n"
     ]
    }
   ],
   "source": [
    "for i in range(7):\n",
    "    for j in range(1,i):\n",
    "        print(j,end=' ')\n",
    "    print()"
   ]
  },
  {
   "cell_type": "code",
   "execution_count": 41,
   "metadata": {},
   "outputs": [
    {
     "name": "stdout",
     "output_type": "stream",
     "text": [
      "sdfgkjsbghsa\n"
     ]
    }
   ],
   "source": [
    "string=\"sdfgkjsbghsakjbghsoaghoasfghaosghsoahgoasfhgsoagsag\"\n",
    "print(string[:len(string)//4])"
   ]
  },
  {
   "cell_type": "code",
   "execution_count": 46,
   "metadata": {},
   "outputs": [
    {
     "name": "stdout",
     "output_type": "stream",
     "text": [
      "3\n"
     ]
    }
   ],
   "source": [
    "lista=[1,2,3,5,6]\n",
    "if len(lista)%2==0:\n",
    "    print((lista[len(lista)//2]+lista[(len(lista)//2)-1])/2)\n",
    "else:\n",
    "    print(lista[len(lista)//2])"
   ]
  },
  {
   "cell_type": "code",
   "execution_count": 79,
   "metadata": {},
   "outputs": [
    {
     "name": "stdout",
     "output_type": "stream",
     "text": [
      "{1, 2, 3, 7}\n"
     ]
    }
   ],
   "source": [
    "lista =[1,2,3,45,56,7]\n",
    "listb =[1,2,3,4,5,6,7,8,9]\n",
    "#print(set(lista))\n",
    "print((set(lista) & set(listb)))"
   ]
  },
  {
   "cell_type": "code",
   "execution_count": 54,
   "metadata": {},
   "outputs": [
    {
     "name": "stdout",
     "output_type": "stream",
     "text": [
      "2020\n",
      "Leap year\n"
     ]
    }
   ],
   "source": [
    "year=int(input())\n",
    "if year%400==0:\n",
    "    print('Leap year')\n",
    "elif year%100==0:\n",
    "    print('Not leap year')\n",
    "elif year%4==0:\n",
    "    print('Leap year')\n",
    "else:\n",
    "    print('Not leap year')"
   ]
  },
  {
   "cell_type": "code",
   "execution_count": 57,
   "metadata": {},
   "outputs": [
    {
     "name": "stdout",
     "output_type": "stream",
     "text": [
      "3\n",
      "Prime\n"
     ]
    }
   ],
   "source": [
    "n=int(input())\n",
    "for i in range(2,n//2):\n",
    "    if n%i==0:\n",
    "        print('Not Prime')\n",
    "        break\n",
    "else:\n",
    "    print('Prime')"
   ]
  },
  {
   "cell_type": "code",
   "execution_count": 85,
   "metadata": {},
   "outputs": [
    {
     "name": "stdout",
     "output_type": "stream",
     "text": [
      "5\n",
      "6\n",
      "7\n",
      "dict_values([1, 2, 3, 4])\n"
     ]
    }
   ],
   "source": [
    "dicta={}\n",
    "dictb={}\n",
    "dicta[0]=1\n",
    "dicta[1]=2\n",
    "dicta[2]=3\n",
    "dicta[3]=4\n",
    "dictb[4]=5\n",
    "dictb[5]=6\n",
    "dictb[6]=7\n",
    "dictb[7]=dicta\n",
    "\n",
    "for v in dictb.values():\n",
    "    if isinstance(v,dict):\n",
    "        print(v.values())\n",
    "    else:\n",
    "        print(v)\n",
    "    "
   ]
  },
  {
   "cell_type": "code",
   "execution_count": 65,
   "metadata": {},
   "outputs": [
    {
     "name": "stdout",
     "output_type": "stream",
     "text": [
      "10\n",
      "22\n",
      "34\n",
      "22\n",
      "34\n",
      "5\n",
      "56\n",
      "22\n",
      "34\n",
      "34\n",
      "34\n",
      "34\n",
      "22\n",
      "5\n",
      "56\n"
     ]
    }
   ],
   "source": [
    "n=input()\n",
    "lista=[]\n",
    "for i in range(int(n)):\n",
    "    lista.append(input())\n",
    "dictionary={}\n",
    "for i in range(int(n)):\n",
    "    if lista[i] in dictionary:\n",
    "        dictionary[lista[i]]=dictionary.get(lista[i])+1\n",
    "    else:\n",
    "        dictionary[lista[i]]=1\n",
    "for w in sorted(dictionary, key=dictionary.get, reverse=True):\n",
    "      print (w)"
   ]
  },
  {
   "cell_type": "code",
   "execution_count": 82,
   "metadata": {},
   "outputs": [
    {
     "name": "stdout",
     "output_type": "stream",
     "text": [
      "{1, 2, 3, 23}\n",
      "1\n",
      "23\n"
     ]
    }
   ],
   "source": [
    "listc=[1,1,1,2,2,2,23,3,3,3,3]\n",
    "seta=set(listc)\n",
    "print(seta)\n",
    "tup = tuple(seta)\n",
    "print(min(tup))\n",
    "print(max(tup))"
   ]
  },
  {
   "cell_type": "code",
   "execution_count": 71,
   "metadata": {},
   "outputs": [],
   "source": [
    "def interest():\n",
    "    principal=int(input())\n",
    "    n=int(input())\n",
    "    interest=(principal*n*8)/100\n",
    "    return interest+principal"
   ]
  },
  {
   "cell_type": "code",
   "execution_count": 72,
   "metadata": {},
   "outputs": [
    {
     "name": "stdout",
     "output_type": "stream",
     "text": [
      "1000\n",
      "2\n"
     ]
    },
    {
     "data": {
      "text/plain": [
       "1160.0"
      ]
     },
     "execution_count": 72,
     "metadata": {},
     "output_type": "execute_result"
    }
   ],
   "source": [
    "interest()"
   ]
  },
  {
   "cell_type": "code",
   "execution_count": 76,
   "metadata": {},
   "outputs": [
    {
     "data": {
      "text/plain": [
       "dict"
      ]
     },
     "execution_count": 76,
     "metadata": {},
     "output_type": "execute_result"
    }
   ],
   "source": [
    "type(set)"
   ]
  },
  {
   "cell_type": "code",
   "execution_count": 77,
   "metadata": {},
   "outputs": [],
   "source": [
    "del set"
   ]
  },
  {
   "cell_type": "code",
   "execution_count": null,
   "metadata": {},
   "outputs": [],
   "source": []
  }
 ],
 "metadata": {
  "kernelspec": {
   "display_name": "Python 3",
   "language": "python",
   "name": "python3"
  },
  "language_info": {
   "codemirror_mode": {
    "name": "ipython",
    "version": 3
   },
   "file_extension": ".py",
   "mimetype": "text/x-python",
   "name": "python",
   "nbconvert_exporter": "python",
   "pygments_lexer": "ipython3",
   "version": "3.7.4"
  }
 },
 "nbformat": 4,
 "nbformat_minor": 2
}
