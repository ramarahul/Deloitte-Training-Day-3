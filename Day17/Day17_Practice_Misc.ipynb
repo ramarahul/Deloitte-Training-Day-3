{
 "cells": [
  {
   "cell_type": "code",
   "execution_count": 1,
   "metadata": {},
   "outputs": [],
   "source": [
    "num = dict(x=5, y=7, z=20)\n"
   ]
  },
  {
   "cell_type": "code",
   "execution_count": 2,
   "metadata": {},
   "outputs": [
    {
     "data": {
      "text/plain": [
       "{'x': 5, 'y': 7, 'z': 20}"
      ]
     },
     "execution_count": 2,
     "metadata": {},
     "output_type": "execute_result"
    }
   ],
   "source": [
    "num\n"
   ]
  },
  {
   "cell_type": "code",
   "execution_count": 3,
   "metadata": {},
   "outputs": [],
   "source": [
    "lista = ['bhogi', 'sankranti', 'lohri', 'pongal']\n",
    "listb = [['ap', 'tg'], 'india', 'punjab', 'tn']"
   ]
  },
  {
   "cell_type": "code",
   "execution_count": 4,
   "metadata": {},
   "outputs": [],
   "source": [
    "x = zip(lista, listb)\n"
   ]
  },
  {
   "cell_type": "code",
   "execution_count": 5,
   "metadata": {},
   "outputs": [
    {
     "data": {
      "text/plain": [
       "zip"
      ]
     },
     "execution_count": 5,
     "metadata": {},
     "output_type": "execute_result"
    }
   ],
   "source": [
    "type(x)\n"
   ]
  },
  {
   "cell_type": "code",
   "execution_count": 6,
   "metadata": {},
   "outputs": [
    {
     "data": {
      "text/plain": [
       "<zip at 0x14b1f977a08>"
      ]
     },
     "execution_count": 6,
     "metadata": {},
     "output_type": "execute_result"
    }
   ],
   "source": [
    "x\n"
   ]
  },
  {
   "cell_type": "code",
   "execution_count": 7,
   "metadata": {},
   "outputs": [
    {
     "name": "stdout",
     "output_type": "stream",
     "text": [
      "<zip object at 0x0000014B1F977A08>\n"
     ]
    }
   ],
   "source": [
    "print(x)\n"
   ]
  },
  {
   "cell_type": "code",
   "execution_count": 8,
   "metadata": {},
   "outputs": [
    {
     "data": {
      "text/plain": [
       "{'bhogi': ['ap', 'tg'],\n",
       " 'sankranti': 'india',\n",
       " 'lohri': 'punjab',\n",
       " 'pongal': 'tn'}"
      ]
     },
     "execution_count": 8,
     "metadata": {},
     "output_type": "execute_result"
    }
   ],
   "source": [
    "dict(x)\n"
   ]
  },
  {
   "cell_type": "code",
   "execution_count": 9,
   "metadata": {},
   "outputs": [],
   "source": [
    "y = dict(x)\n"
   ]
  },
  {
   "cell_type": "code",
   "execution_count": 10,
   "metadata": {},
   "outputs": [
    {
     "data": {
      "text/plain": [
       "{}"
      ]
     },
     "execution_count": 10,
     "metadata": {},
     "output_type": "execute_result"
    }
   ],
   "source": [
    "y\n"
   ]
  },
  {
   "cell_type": "code",
   "execution_count": 11,
   "metadata": {},
   "outputs": [],
   "source": [
    "y = dict(zip(lista, listb))\n"
   ]
  },
  {
   "cell_type": "code",
   "execution_count": 12,
   "metadata": {},
   "outputs": [
    {
     "data": {
      "text/plain": [
       "{'bhogi': ['ap', 'tg'],\n",
       " 'sankranti': 'india',\n",
       " 'lohri': 'punjab',\n",
       " 'pongal': 'tn'}"
      ]
     },
     "execution_count": 12,
     "metadata": {},
     "output_type": "execute_result"
    }
   ],
   "source": [
    "y\n"
   ]
  },
  {
   "cell_type": "code",
   "execution_count": 13,
   "metadata": {},
   "outputs": [],
   "source": [
    "def funca():\n",
    "    print('india gate')"
   ]
  },
  {
   "cell_type": "code",
   "execution_count": 14,
   "metadata": {},
   "outputs": [],
   "source": [
    "\n",
    "def funcb(gen):\n",
    "    gen()"
   ]
  },
  {
   "cell_type": "code",
   "execution_count": 15,
   "metadata": {},
   "outputs": [
    {
     "name": "stdout",
     "output_type": "stream",
     "text": [
      "india gate\n"
     ]
    }
   ],
   "source": [
    "funcb(funca)"
   ]
  },
  {
   "cell_type": "code",
   "execution_count": 16,
   "metadata": {},
   "outputs": [],
   "source": [
    "\n",
    "def funca():\n",
    "    print('india gate')\n",
    "\n",
    "def funcb(gen):\n",
    "    def funcc():\n",
    "        gen()\n",
    "        print('decorated india gate')\n",
    "    return funcc"
   ]
  },
  {
   "cell_type": "code",
   "execution_count": 17,
   "metadata": {},
   "outputs": [],
   "source": [
    "funcx = funcb(funca)    # funcx = funcc\n"
   ]
  },
  {
   "cell_type": "code",
   "execution_count": 18,
   "metadata": {},
   "outputs": [
    {
     "name": "stdout",
     "output_type": "stream",
     "text": [
      "india gate\n",
      "decorated india gate\n"
     ]
    }
   ],
   "source": [
    "funcx()\n"
   ]
  },
  {
   "cell_type": "code",
   "execution_count": 19,
   "metadata": {},
   "outputs": [],
   "source": [
    "def funca():\n",
    "    print('india gate')\n",
    "\n",
    "def funcb(gen):\n",
    "    def funcc():\n",
    "        gen()\n",
    "        print('decorated india gate')\n",
    "    return funcc\n",
    "\n",
    "funcx = funcb(funca)"
   ]
  },
  {
   "cell_type": "code",
   "execution_count": 20,
   "metadata": {},
   "outputs": [
    {
     "name": "stdout",
     "output_type": "stream",
     "text": [
      "india gate\n",
      "decorated india gate\n"
     ]
    }
   ],
   "source": [
    "funcx()\n"
   ]
  },
  {
   "cell_type": "code",
   "execution_count": 21,
   "metadata": {},
   "outputs": [],
   "source": [
    "def funca():\n",
    "    print('india gate')\n",
    "\n",
    "def funcb(gen):\n",
    "    def funcc():\n",
    "        gen()\n",
    "        print('decorated india gate')\n",
    "    return funcc\n",
    "\n",
    "funca = funcb(funca)\n"
   ]
  },
  {
   "cell_type": "code",
   "execution_count": 22,
   "metadata": {},
   "outputs": [
    {
     "name": "stdout",
     "output_type": "stream",
     "text": [
      "india gate\n",
      "decorated india gate\n"
     ]
    }
   ],
   "source": [
    "funca()\n"
   ]
  },
  {
   "cell_type": "code",
   "execution_count": 23,
   "metadata": {},
   "outputs": [],
   "source": [
    "def funcb(gen):\n",
    "    def funcc():\n",
    "        gen()\n",
    "        print('decorated india gate')\n",
    "    return funcc\n",
    "\n",
    "def funca():\n",
    "    print('india gate')\n",
    "\n",
    "funca = funcb(funca)"
   ]
  },
  {
   "cell_type": "code",
   "execution_count": 24,
   "metadata": {},
   "outputs": [
    {
     "name": "stdout",
     "output_type": "stream",
     "text": [
      "india gate\n",
      "decorated india gate\n"
     ]
    }
   ],
   "source": [
    "funca()\n"
   ]
  },
  {
   "cell_type": "code",
   "execution_count": 25,
   "metadata": {},
   "outputs": [
    {
     "name": "stdout",
     "output_type": "stream",
     "text": [
      "india gate\n",
      "-------------\n",
      "india gate\n",
      "decorated india gate\n"
     ]
    }
   ],
   "source": [
    "def funcb(gen):\n",
    "    def funcc():\n",
    "        gen()\n",
    "        print('decorated india gate')\n",
    "    return funcc\n",
    "\n",
    "def funca():\n",
    "    print('india gate')\n",
    "\n",
    "funca()\n",
    "funca = funcb(funca) \n",
    "print(\"-------------\")\n",
    "funca()"
   ]
  },
  {
   "cell_type": "code",
   "execution_count": 26,
   "metadata": {},
   "outputs": [],
   "source": [
    "def funcb(gen):\n",
    "    def funcc():\n",
    "        gen()\n",
    "        print('decorated india gate')\n",
    "    return funcc\n",
    "\n",
    "@funcb\n",
    "def funca():\n",
    "    print('india gate')\n",
    "\n",
    "#funca = funcb(funca)"
   ]
  },
  {
   "cell_type": "code",
   "execution_count": 27,
   "metadata": {},
   "outputs": [
    {
     "name": "stdout",
     "output_type": "stream",
     "text": [
      "india gate\n",
      "decorated india gate\n"
     ]
    }
   ],
   "source": [
    "funca()\n"
   ]
  },
  {
   "cell_type": "code",
   "execution_count": 28,
   "metadata": {},
   "outputs": [],
   "source": [
    "# decorators\n",
    "\n",
    "def funcb(gen):\n",
    "    def funcc():\n",
    "        gen()\n",
    "        print('decorated india gate')\n",
    "    return funcc\n",
    "\n",
    "@funcb\n",
    "def funca():\n",
    "    print('india gate')\n",
    "\n",
    "#funca = funcb(funca)"
   ]
  },
  {
   "cell_type": "code",
   "execution_count": 29,
   "metadata": {},
   "outputs": [],
   "source": [
    "def display(msg):\n",
    "    print(msg)"
   ]
  },
  {
   "cell_type": "code",
   "execution_count": 30,
   "metadata": {},
   "outputs": [
    {
     "name": "stdout",
     "output_type": "stream",
     "text": [
      "hello\n"
     ]
    }
   ],
   "source": [
    "display(\"hello\")"
   ]
  },
  {
   "cell_type": "code",
   "execution_count": 31,
   "metadata": {},
   "outputs": [],
   "source": [
    "\n",
    "def star(funcs):\n",
    "    def inner(*args):\n",
    "        print(\"*\" * 15)\n",
    "        funcs(*args)\n",
    "        print(\"*\" * 15)\n",
    "    return inner\n",
    "\n",
    "@star\n",
    "def display(msg):\n",
    "    print(msg)\n"
   ]
  },
  {
   "cell_type": "code",
   "execution_count": 32,
   "metadata": {},
   "outputs": [
    {
     "name": "stdout",
     "output_type": "stream",
     "text": [
      "***************\n",
      "hello\n",
      "***************\n"
     ]
    }
   ],
   "source": [
    "display('hello')\n"
   ]
  },
  {
   "cell_type": "code",
   "execution_count": 33,
   "metadata": {},
   "outputs": [],
   "source": [
    "def star(funcs):\n",
    "    def inner(*args):\n",
    "        print(\"*\" * 15)\n",
    "        funcs(*args)\n",
    "        print(\"*\" * 15)\n",
    "    return inner\n",
    "\n",
    "def hasha(funcs):\n",
    "    def inner(*args):\n",
    "        print(\"#\" * 15)\n",
    "        funcs(*args)\n",
    "        print(\"#\" * 15)\n",
    "    return inner\n",
    "\n",
    "@star\n",
    "@hasha\n",
    "def display(msg):\n",
    "    print(msg)"
   ]
  },
  {
   "cell_type": "code",
   "execution_count": 34,
   "metadata": {},
   "outputs": [
    {
     "name": "stdout",
     "output_type": "stream",
     "text": [
      "***************\n",
      "###############\n",
      "hello\n",
      "###############\n",
      "***************\n"
     ]
    }
   ],
   "source": [
    "display('hello')\n"
   ]
  },
  {
   "cell_type": "code",
   "execution_count": 35,
   "metadata": {},
   "outputs": [],
   "source": [
    "def star(funcs):\n",
    "    def inner(*args):\n",
    "        print(\"*\" * 15)\n",
    "        funcs(*args)\n",
    "        print(\"*\" * 15)\n",
    "    return inner\n",
    "\n",
    "def hasha(funcs):\n",
    "    def inner(*args):\n",
    "        print(\"#\" * 15)\n",
    "        funcs(*args)\n",
    "        print(\"#\" * 15)\n",
    "    return inner\n",
    "\n",
    "@star\n",
    "@hasha\n",
    "def display(msg):\n",
    "    print(msg)"
   ]
  },
  {
   "cell_type": "code",
   "execution_count": 37,
   "metadata": {},
   "outputs": [
    {
     "name": "stdout",
     "output_type": "stream",
     "text": [
      "***************\n",
      "###############\n",
      "hello\n",
      "###############\n",
      "***************\n"
     ]
    }
   ],
   "source": [
    "display(\"hello\")\n"
   ]
  },
  {
   "cell_type": "code",
   "execution_count": 38,
   "metadata": {},
   "outputs": [],
   "source": [
    "def funcp(*args):\n",
    "    print(args)\n",
    "    print(*args)"
   ]
  },
  {
   "cell_type": "code",
   "execution_count": 39,
   "metadata": {},
   "outputs": [
    {
     "name": "stdout",
     "output_type": "stream",
     "text": [
      "('hello',)\n",
      "hello\n"
     ]
    }
   ],
   "source": [
    "funcp('hello')\n"
   ]
  },
  {
   "cell_type": "code",
   "execution_count": null,
   "metadata": {},
   "outputs": [],
   "source": []
  }
 ],
 "metadata": {
  "kernelspec": {
   "display_name": "Python 3",
   "language": "python",
   "name": "python3"
  },
  "language_info": {
   "codemirror_mode": {
    "name": "ipython",
    "version": 3
   },
   "file_extension": ".py",
   "mimetype": "text/x-python",
   "name": "python",
   "nbconvert_exporter": "python",
   "pygments_lexer": "ipython3",
   "version": "3.7.4"
  }
 },
 "nbformat": 4,
 "nbformat_minor": 2
}
