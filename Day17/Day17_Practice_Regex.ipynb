{
 "cells": [
  {
   "cell_type": "code",
   "execution_count": 1,
   "metadata": {},
   "outputs": [],
   "source": [
    "import re"
   ]
  },
  {
   "cell_type": "code",
   "execution_count": 2,
   "metadata": {},
   "outputs": [],
   "source": [
    "pat='^a..a$'"
   ]
  },
  {
   "cell_type": "code",
   "execution_count": 3,
   "metadata": {},
   "outputs": [
    {
     "name": "stdout",
     "output_type": "stream",
     "text": [
      "It's a match\n"
     ]
    }
   ],
   "source": [
    "stra='asia'\n",
    "res=re.match(pat,stra)\n",
    "\n",
    "if res:\n",
    "    print(\"It's a match\")\n",
    "else:\n",
    "    print(\"Not a match\")"
   ]
  },
  {
   "cell_type": "code",
   "execution_count": 4,
   "metadata": {},
   "outputs": [
    {
     "name": "stdout",
     "output_type": "stream",
     "text": [
      "Not a match\n"
     ]
    }
   ],
   "source": [
    "stra='asioa'\n",
    "res=re.match(pat,stra)\n",
    "\n",
    "if res:\n",
    "    print(\"It's a match\")\n",
    "else:\n",
    "    print(\"Not a match\")"
   ]
  },
  {
   "cell_type": "code",
   "execution_count": 5,
   "metadata": {},
   "outputs": [
    {
     "name": "stdout",
     "output_type": "stream",
     "text": [
      "say hello, it will heal heaven and hell\n",
      "3\n",
      "['hell', 'heal', 'hell']\n"
     ]
    }
   ],
   "source": [
    "\n",
    "stra = input()\n",
    "pat = 'h..l'\n",
    "\n",
    "res = re.findall(pat, stra)\n",
    "print(len(res))\n",
    "print(res)"
   ]
  },
  {
   "cell_type": "code",
   "execution_count": 6,
   "metadata": {},
   "outputs": [],
   "source": [
    "fa = open('hi.txt', 'r')"
   ]
  },
  {
   "cell_type": "code",
   "execution_count": 7,
   "metadata": {},
   "outputs": [],
   "source": [
    "stra = fa.read()"
   ]
  },
  {
   "cell_type": "code",
   "execution_count": 8,
   "metadata": {},
   "outputs": [
    {
     "data": {
      "text/plain": [
       "'sid 18;rahul 18;sai 20;pramod 17'"
      ]
     },
     "execution_count": 8,
     "metadata": {},
     "output_type": "execute_result"
    }
   ],
   "source": [
    "stra\n"
   ]
  },
  {
   "cell_type": "code",
   "execution_count": 9,
   "metadata": {},
   "outputs": [],
   "source": [
    "pat = '\\d+'\n",
    "res = re.findall(pat, stra)"
   ]
  },
  {
   "cell_type": "code",
   "execution_count": 10,
   "metadata": {},
   "outputs": [
    {
     "name": "stdout",
     "output_type": "stream",
     "text": [
      "['18', '18', '20', '17']\n"
     ]
    }
   ],
   "source": [
    "print(res)\n"
   ]
  },
  {
   "cell_type": "code",
   "execution_count": 11,
   "metadata": {},
   "outputs": [
    {
     "name": "stdout",
     "output_type": "stream",
     "text": [
      "['sid ', ';rahul ', ';sai ', ';pramod ', '']\n"
     ]
    }
   ],
   "source": [
    "\n",
    "fa.close()\n",
    "fa = open('hi.txt', 'r')\n",
    "stra = fa.read()\n",
    "\n",
    "pat = '\\d+'\n",
    "res = re.split(pat, stra)\n",
    "print(res)"
   ]
  },
  {
   "cell_type": "code",
   "execution_count": 12,
   "metadata": {},
   "outputs": [
    {
     "name": "stdout",
     "output_type": "stream",
     "text": [
      "['sid ', ';rahul ', ';sai 20;pramod 17']\n"
     ]
    }
   ],
   "source": [
    "fa.close()\n",
    "fa = open('hi.txt', 'r')\n",
    "stra = fa.read()\n",
    "\n",
    "pat = '\\d+'\n",
    "res = re.split(pat, stra, maxsplit=2)\n",
    "print(res)"
   ]
  },
  {
   "cell_type": "code",
   "execution_count": 13,
   "metadata": {},
   "outputs": [
    {
     "name": "stdout",
     "output_type": "stream",
     "text": [
      "sid_18;rahul_18;sai_20;pramod_17\n"
     ]
    }
   ],
   "source": [
    "fa.close()\n",
    "fa = open('hi.txt', 'r')\n",
    "stra = fa.read()\n",
    "\n",
    "pat = '\\s+'\n",
    "res = re.sub(pat, string=stra, repl='_')\n",
    "print(res)"
   ]
  },
  {
   "cell_type": "code",
   "execution_count": 14,
   "metadata": {},
   "outputs": [
    {
     "name": "stdout",
     "output_type": "stream",
     "text": [
      "('sid_18;rahul_18;sai_20;pramod_17', 4)\n"
     ]
    }
   ],
   "source": [
    "fa.close()\n",
    "fa = open('hi.txt', 'r')\n",
    "stra = fa.read()\n",
    "\n",
    "pat = '\\s+'\n",
    "res = re.subn(pat, string=stra, repl='_')\n",
    "print(res)"
   ]
  },
  {
   "cell_type": "code",
   "execution_count": 15,
   "metadata": {},
   "outputs": [
    {
     "name": "stdout",
     "output_type": "stream",
     "text": [
      "it's a match\n"
     ]
    }
   ],
   "source": [
    "\n",
    "stra = 'asia'\n",
    "pat = '^a..a$'\n",
    "res = re.match(pat, stra)\n",
    "\n",
    "if res :\n",
    "    print(\"it's a match\")\n",
    "else:\n",
    "    print(\"not a match\")"
   ]
  },
  {
   "cell_type": "code",
   "execution_count": 16,
   "metadata": {},
   "outputs": [
    {
     "data": {
      "text/plain": [
       "re.Match"
      ]
     },
     "execution_count": 16,
     "metadata": {},
     "output_type": "execute_result"
    }
   ],
   "source": [
    "type(res)"
   ]
  },
  {
   "cell_type": "code",
   "execution_count": null,
   "metadata": {},
   "outputs": [],
   "source": []
  }
 ],
 "metadata": {
  "kernelspec": {
   "display_name": "Python 3",
   "language": "python",
   "name": "python3"
  },
  "language_info": {
   "codemirror_mode": {
    "name": "ipython",
    "version": 3
   },
   "file_extension": ".py",
   "mimetype": "text/x-python",
   "name": "python",
   "nbconvert_exporter": "python",
   "pygments_lexer": "ipython3",
   "version": "3.7.4"
  }
 },
 "nbformat": 4,
 "nbformat_minor": 2
}
