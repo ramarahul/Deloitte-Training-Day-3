{
 "cells": [
  {
   "cell_type": "code",
   "execution_count": 1,
   "metadata": {},
   "outputs": [],
   "source": [
    "from openpyxl import Workbook\n",
    "from openpyxl import load_workbook\n",
    "from openpyxl.styles import colors\n",
    "from openpyxl.styles import Font\n",
    "wbn = load_workbook('excel_file_new.xlsx')\n",
    "wbo = load_workbook('excel_file_old.xlsx')\n",
    "wsn = wbn['Sheet1']\n",
    "wso=wbo['Sheet1']\n",
    "wbs = Workbook()\n",
    "wss=wbs.active\n",
    "\n",
    "ft = Font(color=colors.RED)\n",
    "for i in range(1,wsn.max_row+1):\n",
    "     \n",
    "     # iterate over all columns\n",
    "    for j in range(1,wsn.max_column+1):\n",
    "          # get particular cell value \n",
    "        \n",
    "        cell_new=wsn.cell(row=i,column=j)\n",
    "        cell_old=wso.cell(row=i,column=j)\n",
    "        #print(cell_new,cell_old)\n",
    "        if cell_new.data_type=='n' and i!=1:\n",
    "            wss.cell(row=i, column=j).value = cell_new.value-cell_old.value\n",
    "        else:\n",
    "            wss.cell(row=i, column=j).value = cell_new.value\n",
    "        if wss.cell(row=i,column=j).data_type=='n' and wss.cell(row=i,column=j).value!=0 and i!=1:\n",
    "            wss.cell(row=i,column=j).font=ft\n",
    "            \n",
    "wbs.save('subtract_openpyxl_final.xlsx')"
   ]
  },
  {
   "cell_type": "code",
   "execution_count": null,
   "metadata": {},
   "outputs": [],
   "source": []
  }
 ],
 "metadata": {
  "kernelspec": {
   "display_name": "Python 3",
   "language": "python",
   "name": "python3"
  },
  "language_info": {
   "codemirror_mode": {
    "name": "ipython",
    "version": 3
   },
   "file_extension": ".py",
   "mimetype": "text/x-python",
   "name": "python",
   "nbconvert_exporter": "python",
   "pygments_lexer": "ipython3",
   "version": "3.7.4"
  }
 },
 "nbformat": 4,
 "nbformat_minor": 2
}
