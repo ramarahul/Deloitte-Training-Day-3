{
 "cells": [
  {
   "cell_type": "code",
   "execution_count": 22,
   "metadata": {},
   "outputs": [],
   "source": [
    "import pandas as pd\n",
    "df1=pd.read_excel('excel_file_new.xlsx')\n",
    "cols=[2,3,4,5]\n",
    "df4=pd.read_excel('excel_file_new.xlsx',usecols=cols)\n",
    "df5=pd.read_excel('excel_file_old.xlsx',usecols=cols)\n",
    "df6=df4.subtract(df5)\n",
    "\n",
    "def color_negative_red(val):\n",
    "    color = 'red' if val != 0 and type(val)!=str else 'black'\n",
    "    return 'color: %s' % color\n",
    "df6.insert(0,\"Unique ID\",df1[\"Unique ID\"].tolist(),True)\n",
    "df6.insert(1,\"Data_Point\",df1[\"Data_Point\"].tolist(),True)\n",
    "df9=df6.style.applymap(color_negative_red)\n",
    "\n",
    "writer = pd.ExcelWriter('subtracted_excel_file_pandas_1.xlsx', engine='xlsxwriter')\n",
    "\n",
    "df9.to_excel(writer, sheet_name='Sheet1', index=False)\n",
    "\n",
    "workbook  = writer.book\n",
    "worksheet = writer.sheets['Sheet1']\n",
    "\n",
    "writer.save()"
   ]
  },
  {
   "cell_type": "code",
   "execution_count": 13,
   "metadata": {},
   "outputs": [],
   "source": []
  },
  {
   "cell_type": "code",
   "execution_count": 14,
   "metadata": {},
   "outputs": [],
   "source": []
  },
  {
   "cell_type": "code",
   "execution_count": null,
   "metadata": {},
   "outputs": [],
   "source": []
  }
 ],
 "metadata": {
  "kernelspec": {
   "display_name": "Python 3",
   "language": "python",
   "name": "python3"
  },
  "language_info": {
   "codemirror_mode": {
    "name": "ipython",
    "version": 3
   },
   "file_extension": ".py",
   "mimetype": "text/x-python",
   "name": "python",
   "nbconvert_exporter": "python",
   "pygments_lexer": "ipython3",
   "version": "3.7.4"
  }
 },
 "nbformat": 4,
 "nbformat_minor": 2
}
