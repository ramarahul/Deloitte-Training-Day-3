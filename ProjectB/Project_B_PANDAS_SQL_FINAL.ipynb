{
 "cells": [
  {
   "cell_type": "code",
   "execution_count": 3,
   "metadata": {},
   "outputs": [],
   "source": [
    "import sqlite3\n",
    "con = sqlite3.connect('chinook.db')\n",
    "cur = con.cursor()\n",
    "query = \"\"\"select name from sqlite_master where type=\"table\" \"\"\"\n",
    "cur.execute(query)\n",
    "lista = cur.fetchall()\n",
    "dictOftables={}\n",
    "#Fetch columns from each table into a dictionary\n",
    "for table in lista:\n",
    "    cur.execute(\"select * from {} \".format(table[0]))\n",
    "    listb = cur.description\n",
    "    for i in range(len(listb)):\n",
    "        if listb[i][0] in dictOftables:\n",
    "            dictOftables[listb[i][0]].append(table[0])\n",
    "        else:\n",
    "            dictOftables[listb[i][0]]=[table[0]]\n",
    "#Fetch tables having columns 'TrackId' and 'PlaylistId'\n",
    "list_trackId=dictOftables['TrackId']\n",
    "list_playlistId=dictOftables['PlaylistId']\n",
    "#Find the table which has both 'TrackId' and 'PlaylistId'\n",
    "tablea = list(set(list_trackId) & set(list_playlistId))\n",
    "listOfPlaylistId=[1,5,17,10]\n",
    "dictofTracks={}\n",
    "#Fetch the column name as key and then append all the table names which has the particular column name and store it in the dictionary.\n",
    "for i in range(len(listOfPlaylistId)):\n",
    "    cur.execute(\"select * from {} where PlaylistId={} \".format(tablea[0],listOfPlaylistId[i]))\n",
    "    listc = cur.fetchall()\n",
    "    for j in range(10):\n",
    "        if listc[j][0] in dictofTracks:\n",
    "            dictofTracks[listc[j][0]].append(listc[j][1])\n",
    "        else:\n",
    "            dictofTracks[listc[j][0]]=[listc[j][1]]\n",
    "#Fetch the data from the table which has both track_id and album_id and store it in a new list.\n",
    "tableb = list(set(list_trackId) & set(dictOftables['AlbumId']))\n",
    "#Store the data obtained in a file as output.\n",
    "f = open(\"ProjectB_Output_final.txt\", \"a\")\n",
    "f.write(\"TrackId\\t\")\n",
    "f.write(\"AlbumId\\t\")\n",
    "f.write(\"Name\\t\\n\")\n",
    "\n",
    "for i in range(len(dictofTracks)):\n",
    "    for j in range(len(dictofTracks[listOfPlaylistId[i]])):\n",
    "        cur.execute(\"select TrackId,AlbumId,Name from {} where TrackId={}\".format(tableb[0],dictofTracks[listOfPlaylistId[i]][j]))\n",
    "        listd=cur.fetchall()\n",
    "        f.write(str(listd[0][0])+'\\t')\n",
    "        f.write(str(listd[0][1])+'\\t')\n",
    "        f.write(listd[0][2])\n",
    "        f.write('\\n')\n",
    "#Close the file.\n",
    "f.close()"
   ]
  },
  {
   "cell_type": "code",
   "execution_count": null,
   "metadata": {},
   "outputs": [],
   "source": []
  }
 ],
 "metadata": {
  "kernelspec": {
   "display_name": "Python 3",
   "language": "python",
   "name": "python3"
  },
  "language_info": {
   "codemirror_mode": {
    "name": "ipython",
    "version": 3
   },
   "file_extension": ".py",
   "mimetype": "text/x-python",
   "name": "python",
   "nbconvert_exporter": "python",
   "pygments_lexer": "ipython3",
   "version": "3.7.4"
  }
 },
 "nbformat": 4,
 "nbformat_minor": 2
}
