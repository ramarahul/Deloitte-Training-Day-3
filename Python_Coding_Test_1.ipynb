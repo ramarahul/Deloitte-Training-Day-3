{
 "cells": [
  {
   "cell_type": "code",
   "execution_count": 14,
   "metadata": {},
   "outputs": [
    {
     "name": "stdout",
     "output_type": "stream",
     "text": [
      "2x2+4x+10=0\n",
      "First root is (-1-16j)\n",
      "Second root is (-1+16j)\n"
     ]
    }
   ],
   "source": [
    "import math\n",
    "\n",
    "def getCoeffs(eq):\n",
    "    \"\"\"returns the coefficients a,b,c of given quadratic equation\"\"\"\n",
    "    c=0\n",
    "    split=eq.split(\"=\")          #Splitting the equation\n",
    "    c=c+int(split[1])\n",
    "    split2=split[0].split(\"+\")   #Further splitting the equation\n",
    "    a=b=0\n",
    "    c=c+int(split2[2])           #Assigning value to c\n",
    "    \n",
    "    #Checking for coeff '1'\n",
    "    if split2[0][0]=='x':      \n",
    "        a=1\n",
    "    else:\n",
    "        a=int(split2[0][0])      #Assigning value to a\n",
    "    #Checking for coeff '1'\n",
    "    if split2[1][0]=='x':\n",
    "        b=1\n",
    "    else:\n",
    "        b=int(split2[1][0])      #Assgning value to b\n",
    "        \n",
    "    #Returning a,b,c\n",
    "    return a,b,c\n",
    "\n",
    "def printRoots(a,b,c):\n",
    "    \"\"\"Prints the root of a quadratic equation given coefficients\"\"\"\n",
    "    det=((b*b)-(4*a*c)) #Caluculate determinent\n",
    "    \n",
    "    #Checking if roots are complex\n",
    "    if det<0:\n",
    "        root1=(complex(-b,det)/(2*a))\n",
    "        root2=(complex(-b,-det)/(2*a))\n",
    "    else:\n",
    "        root1=(-b+math.sqrt((b*b)-(4*a*c)))/(2*a)\n",
    "        root2=(-b-math.sqrt((b*b)-(4*a*c)))/(2*a)\n",
    "        \n",
    "    #Printing the roots\n",
    "    print('First root is',root1)\n",
    "    print('Second root is',root2)\n",
    "    \n",
    "eq = input()\n",
    "a,b,c=getCoeffs(eq)\n",
    "printRoots(a,b,c)\n",
    "\n",
    "    \n",
    "    "
   ]
  },
  {
   "cell_type": "code",
   "execution_count": 5,
   "metadata": {},
   "outputs": [
    {
     "name": "stdout",
     "output_type": "stream",
     "text": [
      "2x2+4x+10=0\n",
      "2x2+4x+10 0\n",
      "2\n",
      "3.0\n"
     ]
    }
   ],
   "source": [
    "import math\n",
    "qw=input()\n",
    "wq=qw.split(\"=\")\n",
    "print(wq[0],wq[1])\n",
    "print(wq[0][0])\n",
    "print(math.sqrt(9))"
   ]
  },
  {
   "cell_type": "code",
   "execution_count": 17,
   "metadata": {},
   "outputs": [],
   "source": [
    "c=complex(-4,-((4*4)-(4*2*10)))"
   ]
  },
  {
   "cell_type": "code",
   "execution_count": 18,
   "metadata": {},
   "outputs": [
    {
     "data": {
      "text/plain": [
       "(-1+16j)"
      ]
     },
     "execution_count": 18,
     "metadata": {},
     "output_type": "execute_result"
    }
   ],
   "source": [
    "c/4"
   ]
  },
  {
   "cell_type": "code",
   "execution_count": null,
   "metadata": {},
   "outputs": [],
   "source": []
  }
 ],
 "metadata": {
  "kernelspec": {
   "display_name": "Python 3",
   "language": "python",
   "name": "python3"
  },
  "language_info": {
   "codemirror_mode": {
    "name": "ipython",
    "version": 3
   },
   "file_extension": ".py",
   "mimetype": "text/x-python",
   "name": "python",
   "nbconvert_exporter": "python",
   "pygments_lexer": "ipython3",
   "version": "3.7.4"
  }
 },
 "nbformat": 4,
 "nbformat_minor": 2
}
